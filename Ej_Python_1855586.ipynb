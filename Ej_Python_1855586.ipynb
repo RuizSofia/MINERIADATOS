{
  "nbformat": 4,
  "nbformat_minor": 0,
  "metadata": {
    "colab": {
      "name": "Ej_Python_1855586.ipynb",
      "provenance": [],
      "collapsed_sections": []
    },
    "kernelspec": {
      "name": "python3",
      "display_name": "Python 3"
    },
    "language_info": {
      "name": "python"
    }
  },
  "cells": [
    {
      "cell_type": "markdown",
      "metadata": {
        "id": "C4nMS-r4qUqc"
      },
      "source": [
        "# Ejercicio 1:\n",
        "Realiza una variable con tu matricula y realiza una secuencia de imprimir con tu nombre y tu matricula concatenados.\n",
        "\n"
      ]
    },
    {
      "cell_type": "code",
      "metadata": {
        "id": "9RaJQvImqZN8",
        "colab": {
          "base_uri": "https://localhost:8080/"
        },
        "outputId": "b3148747-793a-48b0-a481-67c772a696c8"
      },
      "source": [
        "nombre = str(input(\"Ingresa tu nombre:\")) # el str lo utilizamos para cadenas de texto (string )\n",
        "matricula = int(input(\"Ingresa tu matricula:\"))\n",
        "\n",
        "print (\"Hola\" , nombre , \"tu matricula es:\", matricula)\n",
        "\n"
      ],
      "execution_count": null,
      "outputs": [
        {
          "output_type": "stream",
          "text": [
            "Ingresa tu nombre:Sofia Ruiz \n",
            "Ingresa tu matricula:1855586\n",
            "Hola Sofia Ruiz  tu matricula es: 1855586\n"
          ],
          "name": "stdout"
        }
      ]
    },
    {
      "cell_type": "markdown",
      "metadata": {
        "id": "VQE3aGCSt8pZ"
      },
      "source": [
        "# Ejercicio 2:\n",
        "Pidiendo el input del usuario pide dos números y crea una pequeña calculadora con los operadores básicos de suma, resta, multiplicación, división, y exponente.\n",
        "\n",
        "Utilizando el loop de while"
      ]
    },
    {
      "cell_type": "code",
      "metadata": {
        "id": "ptDkslBOt_gc",
        "colab": {
          "base_uri": "https://localhost:8080/"
        },
        "outputId": "ced90791-2fb1-4680-8e75-806f741512c8"
      },
      "source": [
        "num1= float(input(\"Ingresa el primer número:\")) #decidí que el tipo de dato sea flotante para que no haya problema alguno en las operaciones\n",
        "num2= float(input(\"Ingresa el segundo número:\"))\n",
        "\n",
        "print(\" 1 Suma  2 Resta  3 Multiplicación  4 División  5 Elevarlo a un exponente \")\n",
        "\n",
        "op=float(input(\"Ingresa la operación que deseas realizar:\"))\n",
        "\n",
        "#loop de while\n",
        "\n",
        "while op == 1:\n",
        "  suma = num1 + num2\n",
        "  print(\"El resultado de la suma es:\", suma)\n",
        "  break  #la instrución break pone fin al loop\n",
        "\n",
        "while op == 2:\n",
        "  resta= num1 - num2\n",
        "  print(\"El resultado de la resta es:\", resta)\n",
        "  break  \n",
        "\n",
        "while op == 3:\n",
        "  mult= num1 * num2\n",
        "  print(\"El resultado de la multiplicación es:\", mult)\n",
        "  break  \n",
        "\n",
        "while op == 4:\n",
        "  div= num1 / num2\n",
        "  print(\"El resultado de la división es:\", div)\n",
        "  break  \n",
        "\n",
        "while op == 5:\n",
        "  x=float(input(\"Ingresa la potencia:\"))\n",
        "  exp1=pow(num1,x) #pow es una función que nos ayuda a elevar un número a cierta potencia\n",
        "  exp2=pow(num2,x)\n",
        "  print(\"El primer número elevado a la\", x, \"potencia es igual a:\", exp1, \"El segundo número elevado a la\", x, \"potencia es igual a:\", exp2, )\n",
        "  break\n",
        "  \n",
        "\n",
        " \n",
        "\n",
        "\n",
        "\n",
        "\n",
        "\n",
        "\n",
        "\n",
        "\n"
      ],
      "execution_count": null,
      "outputs": [
        {
          "output_type": "stream",
          "text": [
            "Ingresa el primer número:1\n",
            "Ingresa el segundo número:2\n",
            " 1 Suma  2 Resta  3 Multiplicación  4 División  5 Elevarlo a un exponente \n",
            "Ingresa la operación que deseas realizar:3\n",
            "El resultado de la multiplicación es: 2.0\n"
          ],
          "name": "stdout"
        }
      ]
    },
    {
      "cell_type": "markdown",
      "metadata": {
        "id": "nBblQ5lv-f-H"
      },
      "source": [
        "# Ejercicio 3:\n",
        "Con loop while o for, realiza una lista de 10 numeros multiplos de 3, y después realiza una función de loop que sume todos los números dentro del arreglo."
      ]
    },
    {
      "cell_type": "code",
      "metadata": {
        "id": "chVweJgu-h26",
        "colab": {
          "base_uri": "https://localhost:8080/"
        },
        "outputId": "ab36437c-bcfa-4015-bd77-f15dbe88d57a"
      },
      "source": [
        "for i in range (3,31,3):\n",
        "  print (i)\n",
        "\n",
        "def sum (x, y):\n",
        "    suma = 0\n",
        "    for i in range (3,31,3):\n",
        "      suma+=i\n",
        "      \n",
        "    return (suma)\n",
        "\n",
        "print(\"La suma de los multiplos es igual a:\", suma) \n",
        " \n",
        "\n",
        "\n"
      ],
      "execution_count": null,
      "outputs": [
        {
          "output_type": "stream",
          "text": [
            "3\n",
            "6\n",
            "9\n",
            "12\n",
            "15\n",
            "18\n",
            "21\n",
            "24\n",
            "27\n",
            "30\n",
            "La suma de los multiplos es igual a: 165\n"
          ],
          "name": "stdout"
        }
      ]
    },
    {
      "cell_type": "markdown",
      "metadata": {
        "id": "wDBvmRU124xe"
      },
      "source": [
        "# Ejercicio 4\n",
        "Con una función de if else, revisar si un número es par o es impar.\n",
        "Con una función de if else, revisar si un número es primo o no."
      ]
    },
    {
      "cell_type": "code",
      "metadata": {
        "colab": {
          "base_uri": "https://localhost:8080/"
        },
        "id": "env3H4yn3A18",
        "outputId": "e1eb840f-f5ca-427c-9455-f0d1369785c8"
      },
      "source": [
        "print(\" 1 Quiero saber si un número es par o impar  2 Quiero saber si es primo o no \")\n",
        "\n",
        "op=int(input(\"Elige una opción:\"))\n",
        "\n",
        "while op == 1:\n",
        "  n = int(input(\"Ingresa un número entero:\"))\n",
        "\n",
        "  if n % 2 == 0:\n",
        "    print(\"El número ingresado es par\")\n",
        "\n",
        "  else:\n",
        "    print(\"El número es impar\")\n",
        "\n",
        "  break \n",
        "\n",
        "\n",
        "while op ==2:\n",
        "  x = int(input(\"Ingresa otro número entero \"))\n",
        "\n",
        "  cont = 0\n",
        "  for i in range (1, (x+1)):\n",
        "     if x % i == 0:\n",
        "       cont += 1\n",
        "\n",
        "  if cont == 2:\n",
        "          print(\"El número ingresado es primo\")\n",
        "\n",
        "  else:\n",
        "           print(\"El número ingresado no es primo\")\n",
        "\n",
        "  break    \n",
        "\n",
        "\n",
        "      \n",
        "\n",
        "  "
      ],
      "execution_count": null,
      "outputs": [
        {
          "output_type": "stream",
          "text": [
            " 1 Quiero saber si un número es par o impar  2 Quiero saber si es primo o no \n",
            "Elige una opción:1\n",
            "Ingresa un número entero:5\n",
            "El número es impar\n"
          ],
          "name": "stdout"
        }
      ]
    },
    {
      "cell_type": "markdown",
      "metadata": {
        "id": "tDeibSXJCHuH"
      },
      "source": [
        "# Ejercicio 5\n",
        "Utilizando diferentes clases en python, crea una calculadora con los operadores básicos de suma, resta, multiplicación, división, y exponente."
      ]
    },
    {
      "cell_type": "code",
      "metadata": {
        "id": "LAafaaw5EXoU"
      },
      "source": [
        "class calculadora:\n",
        "  num1=0\n",
        "  num2=0\n",
        "\n",
        "  def __init__(self, num1, num2):\n",
        "    self.num1= float (num1)\n",
        "    self.num2=float (num2) \n",
        "    def suma (self):\n",
        "      return self.num1 + self.num2\n",
        "    def resta (self):\n",
        "      return self.num1 - self.num2\n",
        "    def mult (self):\n",
        "      return self.num1 * self.num2\n",
        "    def div(self):\n",
        "      return self.num1 / self.num2\n",
        "    def exp(self):  \n",
        "      return self.num1**self.num2\n",
        "\n",
        "      num1 = float (input(\"Ingresa el primer número:\"))\n",
        "      num2 = float (input(\"Ingresa el segundo número:\"))     \n",
        "\n",
        "      calculadora = calculadora (num1,num2)    \n",
        "      print(calculadora.suma())\n",
        "      print(calculadora.resta())\n",
        "      print(calculadora.mult())\n",
        "      print(calculadora.div())\n",
        "      print(calculadora.exp())\n",
        "\n",
        "      print(\"El resultado de la suma es:\", suma)\n",
        "      print(\"El resultado de la resta es:\", resta)\n",
        "      print(\"El resultado de la multiplicación es:\", mult)\n",
        "      print(\"El resultado de la división es:\", div)\n",
        "      print(\"El resultado de elevarlo al segundo número es:\", exp)\n",
        "\n",
        "\n",
        "\n"
      ],
      "execution_count": 54,
      "outputs": []
    },
    {
      "cell_type": "markdown",
      "metadata": {
        "id": "EgpqAO4e1_xB"
      },
      "source": [
        "# Tuplas:\n",
        "\n",
        " a) Crear una variable flotante, integer, boleana y compleja e imprimir el tipo de variable que es\n",
        "\n",
        "\n",
        "\n"
      ]
    },
    {
      "cell_type": "code",
      "metadata": {
        "colab": {
          "base_uri": "https://localhost:8080/"
        },
        "id": "Xv4JMEyH2IOl",
        "outputId": "975dac40-96d7-4f18-bf7e-663f0e4d4cca"
      },
      "source": [
        "tupla = (0.5, \"Hola\", 5, 1 > 0 , 4 + 5j)  #en python la parte imaginaria va a estar representada por la letra j en lugar de utilizar la i\n",
        "\n",
        "for i in range (len(tupla)): #el método len() devuelve la longitud de un objeto\n",
        "  print (\"Valor: {} - tipo de dato: {}\" .format(tupla[i], type (tupla[i])))\n"
      ],
      "execution_count": 11,
      "outputs": [
        {
          "output_type": "stream",
          "text": [
            "Valor: 0.5 - tipo de dato: <class 'float'>\n",
            "Valor: Hola - tipo de dato: <class 'str'>\n",
            "Valor: 5 - tipo de dato: <class 'int'>\n",
            "Valor: True - tipo de dato: <class 'bool'>\n",
            "Valor: (4+5j) - tipo de dato: <class 'complex'>\n"
          ],
          "name": "stdout"
        }
      ]
    },
    {
      "cell_type": "markdown",
      "metadata": {
        "id": "WHt21Aey7ZG3"
      },
      "source": [
        "b) Crear una tupla con valores enteros imprimir el primer y ultimo valor."
      ]
    },
    {
      "cell_type": "code",
      "metadata": {
        "colab": {
          "base_uri": "https://localhost:8080/"
        },
        "id": "S1kkj8MS5LiQ",
        "outputId": "6fc95338-66b5-4fed-cb7c-4a3063cd22fa"
      },
      "source": [
        "tupla = (10, 20, 30, 40 ,50)\n",
        "\n",
        "primerval= tupla[0]\n",
        "segundoval= tupla[len(tupla)-1]  #el método len() devuelve la longitud de un objeto\n",
        "\n",
        "print (\"El primer valor de la tupla es:\", primerval)\n",
        "print (\"El segundo valor de la tupla es:\", segundoval)\n"
      ],
      "execution_count": 13,
      "outputs": [
        {
          "output_type": "stream",
          "text": [
            "El primer valor de la tupla es: 10\n",
            "El segundo valor de la tupla es: 50\n"
          ],
          "name": "stdout"
        }
      ]
    },
    {
      "cell_type": "markdown",
      "metadata": {
        "id": "-0tZ16wz9lXj"
      },
      "source": [
        "c)Añadir 3 valores de string a la tupla.\n"
      ]
    },
    {
      "cell_type": "code",
      "metadata": {
        "colab": {
          "base_uri": "https://localhost:8080/"
        },
        "id": "0PXEkkWN9qg1",
        "outputId": "babace96-dc09-4df0-9ace-22c11e032994"
      },
      "source": [
        "tupla =(10, 20, 30, 40, 50)\n",
        "\n",
        "print(\"Tupla:\", tupla)\n",
        "\n",
        "tupla = tupla + (60, 70, 80)\n",
        "\n",
        "print(\"La nueva tupla es:\", tupla)\n",
        "\n",
        "\n"
      ],
      "execution_count": 17,
      "outputs": [
        {
          "output_type": "stream",
          "text": [
            "Tupla: (10, 20, 30, 40, 50)\n",
            "La nueva tupla es: (10, 20, 30, 40, 50, 60, 70, 80)\n"
          ],
          "name": "stdout"
        }
      ]
    },
    {
      "cell_type": "markdown",
      "metadata": {
        "id": "ZfPS7JLL-vSd"
      },
      "source": [
        "d) Verificar si una variable existe dentro de la tupla."
      ]
    },
    {
      "cell_type": "code",
      "metadata": {
        "colab": {
          "base_uri": "https://localhost:8080/"
        },
        "id": "92WE0gC7-08B",
        "outputId": "ad4ba06c-1cab-40ea-92ac-a7d6eda7f165"
      },
      "source": [
        "tupla: (10, 20, 30, 40, 50)\n",
        "\n",
        "print (30 in tupla)\n",
        "\n",
        "print (100 in tupla)"
      ],
      "execution_count": 21,
      "outputs": [
        {
          "output_type": "stream",
          "text": [
            "True\n",
            "False\n"
          ],
          "name": "stdout"
        }
      ]
    },
    {
      "cell_type": "markdown",
      "metadata": {
        "id": "wJs7P2hM_qww"
      },
      "source": [
        "# Listas:\n",
        "a) Crear una lista con 40 elementos aleatorios enteros."
      ]
    },
    {
      "cell_type": "code",
      "metadata": {
        "colab": {
          "base_uri": "https://localhost:8080/"
        },
        "id": "8P5AiKZb_0wt",
        "outputId": "28afea8c-5c60-433a-9dbf-b22077252a55"
      },
      "source": [
        "from random import randint  #randint sirve para generar numeros aleatorios enteros\n",
        "\n",
        "lista = [randint(1,200) for _ in range(40)]\n",
        "\n",
        "print(lista)"
      ],
      "execution_count": 30,
      "outputs": [
        {
          "output_type": "stream",
          "text": [
            "[93, 21, 183, 131, 163, 69, 200, 22, 45, 99, 56, 86, 69, 78, 43, 3, 39, 24, 157, 187, 165, 8, 116, 145, 75, 192, 34, 106, 189, 62, 143, 106, 35, 61, 187, 149, 182, 153, 20, 44]\n"
          ],
          "name": "stdout"
        }
      ]
    },
    {
      "cell_type": "markdown",
      "metadata": {
        "id": "tApwIW5YInWi"
      },
      "source": [
        "# Diccionarios:\n",
        "\n",
        "\n",
        "a) Crear un diccionario de 6 personas que conozcas con su primer nombre y su edad\n",
        "\n",
        "\n"
      ]
    },
    {
      "cell_type": "code",
      "metadata": {
        "colab": {
          "base_uri": "https://localhost:8080/"
        },
        "id": "baO7_v_rIy2e",
        "outputId": "4edf0798-70cf-46de-c601-b91b76a88c8d"
      },
      "source": [
        "diccionario = {\"Roman\": 21, \"Cristopher\": 23, \"Sofia\": 20, \"Gael\": 10, \"José\": 52, \"Lucero\": 19}\n",
        "\n",
        "print (diccionario)\n"
      ],
      "execution_count": 55,
      "outputs": [
        {
          "output_type": "stream",
          "text": [
            "{'Roman': 21, 'Cristopher': 23, 'Sofia': 20, 'Gael': 10, 'José': 52, 'Lucero': 19}\n"
          ],
          "name": "stdout"
        }
      ]
    },
    {
      "cell_type": "markdown",
      "metadata": {
        "id": "sYLNKitnKBAe"
      },
      "source": [
        "b) Crear una lista con los valores de la edad y reacomodar la lista de menor a mayor valor."
      ]
    },
    {
      "cell_type": "code",
      "metadata": {
        "colab": {
          "base_uri": "https://localhost:8080/"
        },
        "id": "ZBbB7xS6KGo2",
        "outputId": "b4f12b5b-c561-4a94-8c5c-9ff5c4db9c32"
      },
      "source": [
        "lista = [21, 23, 20, 10, 52, 19]\n",
        "\n",
        "for lon in range (1,len(lista)):\n",
        "  for i in range (len(lista)- lon):\n",
        "    if lista[i] > lista [i+1]:\n",
        "      j = lista [i]\n",
        "      lista [i] = lista [i+1]\n",
        "      lista [i+1] = j\n",
        "\n",
        "print (lista)\n",
        "       \n",
        "\n"
      ],
      "execution_count": 56,
      "outputs": [
        {
          "output_type": "stream",
          "text": [
            "[10, 19, 20, 21, 23, 52]\n"
          ],
          "name": "stdout"
        }
      ]
    },
    {
      "cell_type": "markdown",
      "metadata": {
        "id": "aPoD4hUMMTv2"
      },
      "source": [
        "c) Usando el diccionario y un loop, imprimir solo los nombres\n"
      ]
    },
    {
      "cell_type": "code",
      "metadata": {
        "colab": {
          "base_uri": "https://localhost:8080/"
        },
        "id": "dICX29sbNQ7y",
        "outputId": "c5365c74-117c-4db8-f135-178f6f1060d0"
      },
      "source": [
        "diccionario = {\"Roman\": 21, \"Cristopher\": 23, \"Sofia\": 20, \"Gael\": 10, \"José\": 52, \"Lucero\": 19}\n",
        "\n",
        "\n",
        "for key,value in diccionario.items():\n",
        "    print (diccionario.keys())\n"
      ],
      "execution_count": 73,
      "outputs": [
        {
          "output_type": "stream",
          "text": [
            "dict_keys(['Roman', 'Cristopher', 'Sofia', 'Gael', 'José', 'Lucero'])\n",
            "dict_keys(['Roman', 'Cristopher', 'Sofia', 'Gael', 'José', 'Lucero'])\n",
            "dict_keys(['Roman', 'Cristopher', 'Sofia', 'Gael', 'José', 'Lucero'])\n",
            "dict_keys(['Roman', 'Cristopher', 'Sofia', 'Gael', 'José', 'Lucero'])\n",
            "dict_keys(['Roman', 'Cristopher', 'Sofia', 'Gael', 'José', 'Lucero'])\n",
            "dict_keys(['Roman', 'Cristopher', 'Sofia', 'Gael', 'José', 'Lucero'])\n"
          ],
          "name": "stdout"
        }
      ]
    },
    {
      "cell_type": "markdown",
      "metadata": {
        "id": "qNIY0F-FPF2M"
      },
      "source": [
        "d) Añadir dos personas nuevas a tu diccionario, incluyendo edad."
      ]
    },
    {
      "cell_type": "code",
      "metadata": {
        "colab": {
          "base_uri": "https://localhost:8080/"
        },
        "id": "T8zNmYbhPnlB",
        "outputId": "297ce13d-ff99-43a2-b887-e829382c6838"
      },
      "source": [
        "diccionario = {\"Roman\": 21, \"Cristopher\": 23, \"Sofia\": 20, \"Gael\": 10, \"José\": 52, \"Lucero\": 19}\n",
        "\n",
        "print(\"Diccionario\", diccionario)\n",
        "\n",
        "diccionario.update({\"Brayan\": 12, \"Hector\": 27}) #el método update nos ayuda a ingresar nuevos valores a nuestro diccionario\n",
        "\n",
        "print(\"El nuevo diccionario es:\", diccionario)\n"
      ],
      "execution_count": 60,
      "outputs": [
        {
          "output_type": "stream",
          "text": [
            "Diccionario {'Roman': 21, 'Cristopher': 23, 'Sofia': 20, 'Gael': 10, 'José': 52, 'Lucero': 19}\n",
            "El nuevo diccionario es: {'Roman': 21, 'Cristopher': 23, 'Sofia': 20, 'Gael': 10, 'José': 52, 'Lucero': 19, 'Brayan': 12, 'Hector': 27}\n"
          ],
          "name": "stdout"
        }
      ]
    },
    {
      "cell_type": "markdown",
      "metadata": {
        "id": "xENfVhJZSnT4"
      },
      "source": [
        "# Sets:\n",
        "a) Crea un set con 100 numeros aleatorios enteros del 1 al 25."
      ]
    },
    {
      "cell_type": "code",
      "metadata": {
        "id": "I8N-znZ3Yv9E"
      },
      "source": [
        "conjunto=set()\n",
        "        \n",
        "for i in range (100):\n",
        "\n",
        "    conjunto.add(random.randrage(1,25))\n",
        "\n",
        "print(conjunto)"
      ],
      "execution_count": null,
      "outputs": []
    },
    {
      "cell_type": "markdown",
      "metadata": {
        "id": "mD68-LEcUz33"
      },
      "source": [
        "b)Comprueba la longitud de tu set"
      ]
    },
    {
      "cell_type": "markdown",
      "metadata": {
        "id": "Kxy7MVi3Y0zP"
      },
      "source": [
        "c) Crea una lista de 5 numeros aleatorios del 1 al 10 y comprueba si cada valor aparece en el set inicial."
      ]
    },
    {
      "cell_type": "code",
      "metadata": {
        "id": "n1NCaKfQY6Tj"
      },
      "source": [
        "conjunto=set()\n",
        "        \n",
        "for i in range (5):\n",
        "\n",
        "    conjunto.add(random.randrage(1,10))\n",
        "\n",
        "print(conjunto)"
      ],
      "execution_count": null,
      "outputs": []
    }
  ]
}